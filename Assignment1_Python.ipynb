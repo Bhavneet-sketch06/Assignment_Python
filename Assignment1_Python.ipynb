{
 "cells": [
  {
   "cell_type": "markdown",
   "id": "29f02078",
   "metadata": {},
   "source": [
    "Q1. explain the key features of a python that make it a popular choice of programming \n",
    "1.Readability and Simplicity - Syntax of python is easy to read and write and also user as well as beginner-friendly.\n",
    "2.Versatile and Flexible - Python is used in wide range of applications starting from web development to data analysis and further to machine learning and arificial intelligence.\n",
    "3.Libraries and Frameworks - Python has a vast collection of libraries and frameworks . some of the examples are : Django , Pandas , TensorFlow etc.\n",
    "4.Dynamic Typing - There is no need of specifying the data types while programming in python . This can speed up development and reduce the code length as well."
   ]
  },
  {
   "cell_type": "markdown",
   "id": "ddf6c55d",
   "metadata": {},
   "source": [
    "Q2. Describe the role of predefined keywords in Python and provide examples of how they are used in a program.\n",
    "Ans. Predefined keywords are the words that have special meaning. \n",
    "Role of predefined keywords :\n",
    "1.Control the Flow of program - Keywords like if,else,elif etc control the flow in which program will be executed.\n",
    "2.Data types - keywords like True , False , None etc represent predefined values.\n",
    "3.Logical and Mathematical Operations - Keywords like or, and, not are used for logical comparison operations.\n",
    "\n",
    "An example below in illustrated to show the concept of Predefined Keywords :-"
   ]
  },
  {
   "cell_type": "code",
   "execution_count": 4,
   "id": "ec1e74e5",
   "metadata": {},
   "outputs": [
    {
     "name": "stdout",
     "output_type": "stream",
     "text": [
      "Working Day\n"
     ]
    }
   ],
   "source": [
    "day = \"Wednesday\"\n",
    "if ((day == \"Wednesday\") or (day == \"Friday\")):\n",
    "    print(\"Working Day\")\n",
    "else:\n",
    "    print(\"Not a Working Day\")\n"
   ]
  },
  {
   "cell_type": "markdown",
   "id": "c85b61dc",
   "metadata": {},
   "source": [
    "Q3.Compare and Contrast mutable and immutable objects in python with exampls.\n",
    "Ans.    Mutable Objects                                       Immutable Objects\n",
    "    1. Mutable objects are those whose values                1. Immutable objects are those whoise values \n",
    "    can be changed after they are created.                     cannot be changed after they are created.\n",
    "    2. They maintain the same object identity                2. Object identity is changed after modification.\n",
    "    even after modification.\n",
    "    3. Examples of mutable objects are :                     3. Examples of mutable objects are :\n",
    "    List , dictionaries , sets etc                              Tuples , Strings etc\n"
   ]
  },
  {
   "cell_type": "code",
   "execution_count": 5,
   "id": "9494d95f",
   "metadata": {},
   "outputs": [
    {
     "name": "stdout",
     "output_type": "stream",
     "text": [
      "My List before Modification :  [4, 6, 2, 1]\n",
      "My List after Modification :  [4, 6, 2, 1, 11]\n"
     ]
    }
   ],
   "source": [
    "my_list = [4,6,2,1]\n",
    "print(\"My List before Modification : \" , my_list)\n",
    "my_list.append(11)\n",
    "print(\"My List after Modification : \" , my_list)"
   ]
  },
  {
   "cell_type": "code",
   "execution_count": 7,
   "id": "1d425978",
   "metadata": {},
   "outputs": [
    {
     "name": "stdout",
     "output_type": "stream",
     "text": [
      "Tuple before modification :  (5, 9, 2)\n"
     ]
    },
    {
     "ename": "TypeError",
     "evalue": "'tuple' object does not support item assignment",
     "output_type": "error",
     "traceback": [
      "\u001b[1;31m---------------------------------------------------------------------------\u001b[0m",
      "\u001b[1;31mTypeError\u001b[0m                                 Traceback (most recent call last)",
      "Cell \u001b[1;32mIn[7], line 3\u001b[0m\n\u001b[0;32m      1\u001b[0m my_tuple \u001b[38;5;241m=\u001b[39m (\u001b[38;5;241m5\u001b[39m,\u001b[38;5;241m9\u001b[39m,\u001b[38;5;241m2\u001b[39m)\n\u001b[0;32m      2\u001b[0m \u001b[38;5;28mprint\u001b[39m(\u001b[38;5;124m\"\u001b[39m\u001b[38;5;124mTuple before modification : \u001b[39m\u001b[38;5;124m\"\u001b[39m , my_tuple)\n\u001b[1;32m----> 3\u001b[0m \u001b[43mmy_tuple\u001b[49m\u001b[43m[\u001b[49m\u001b[38;5;241;43m1\u001b[39;49m\u001b[43m]\u001b[49m \u001b[38;5;241m=\u001b[39m \u001b[38;5;241m8\u001b[39m\n\u001b[0;32m      4\u001b[0m \u001b[38;5;28mprint\u001b[39m(\u001b[38;5;124m\"\u001b[39m\u001b[38;5;124mTuple after modification : \u001b[39m\u001b[38;5;124m\"\u001b[39m , my_tuple)\n",
      "\u001b[1;31mTypeError\u001b[0m: 'tuple' object does not support item assignment"
     ]
    }
   ],
   "source": [
    "my_tuple = (5,9,2)\n",
    "print(\"Tuple before modification : \" , my_tuple)\n",
    "my_tuple[1] = 8\n",
    "print(\"Tuple after modification : \" , my_tuple)\n"
   ]
  },
  {
   "cell_type": "markdown",
   "id": "cc7fbbdf",
   "metadata": {},
   "source": [
    "Q4.Discuss the different types of operators in Python and provide examples of how they are used.\n",
    "Ans.The different types of operators used in python are : \n",
    "1.Arithmetic operators - They are used to perform basic mathematical operations. examples - + , - , * , / , % etc.\n",
    "2.Comparisom operators - They are used when comparison between two values is needed and then returns a boolean value. example - == , != , > , < ,=> , =< .\n",
    "3.Assignment operators - They are used to assign values to variables. examples - = , += , -= , *= , /= , %= , //= , **=\n",
    "4.Logical operators - They are used to combine conditional statements. examples - and , or, not .\n",
    "5.Bitwise operators - These operators work at bit level and perform bit by bit operations . examples - & , | , ^ , ~ , << , >>.\n",
    "6.Identity operators - They compare the memory location of two objects to check if they refer to the same object. examples - is , is not\n",
    "7.Membership operators - They test whether a value or variable is found in a sequence . examples - in , not in  \n"
   ]
  },
  {
   "cell_type": "code",
   "execution_count": 14,
   "id": "262d9acd",
   "metadata": {},
   "outputs": [
    {
     "name": "stdout",
     "output_type": "stream",
     "text": [
      "The value of x after using assignment operator :  25\n",
      "Value of y after using arithmetic operator :  48\n",
      "Greater than 5 ('Hence this illustrates the concept of comparison operators')\n",
      "B grade\n",
      "The value of 8 bitwise or 2 is :  10\n",
      "The value of 8 bitwise and 2 is :  0\n",
      "number present in list\n",
      "True\n",
      "False\n"
     ]
    }
   ],
   "source": [
    "#illustrating the concept of assignment operators\n",
    "x = 20\n",
    "x += 5\n",
    "print(\"The value of x after using assignment operator : \" , x)\n",
    "\n",
    "#illustrating the concept of arithmetic operators\n",
    "y = 16\n",
    "product = y * 3\n",
    "print(\"Value of y after using arithmetic operator : \" , product)\n",
    "\n",
    "#illustrating the concept of comparison operators\n",
    "a = 7\n",
    "if(a > 5 ):\n",
    "    print(\"Greater than 5 ('Hence this illustrates the concept of comparison operators')\")\n",
    "else:\n",
    "    print(\"Less than 5 ('Hence this illustrates the concept of comparison operators')\")\n",
    "\n",
    "#illustrating the concept of logical operators\n",
    "marks = 83\n",
    "if((marks>90)and(marks<=100)):\n",
    "    print(\"A grade\")\n",
    "elif((marks<=90)and(marks>=80)):\n",
    "    print(\"B grade\")\n",
    "elif((marks<=79)and(marks>=70)):\n",
    "    print(\"C grade\")\n",
    "else:\n",
    "    print(\"D grade\")\n",
    "\n",
    "#illustrating the concept of bitwise operators\n",
    "a = 8 | 2\n",
    "b = 8 & 2\n",
    "print(\"The value of 8 bitwise or 2 is : \" , a)\n",
    "print(\"The value of 8 bitwise and 2 is : \" , b)\n",
    "\n",
    "#illustrating the concept of membership operator\n",
    "i = 5\n",
    "my_list = [5,4,2,3,9,7]\n",
    "for i in my_list:\n",
    "    print(\"number present in list\")\n",
    "    break\n",
    "else:\n",
    "    print(\"number not present in list\")\n",
    "\n",
    "#illustrating the concept of identity operator\n",
    "i = [5,6,7]\n",
    "j = i\n",
    "k = [5,6,7] #even though it holds the same value as i but k is a different object . hence it's output will be False\n",
    "print(i is j)\n",
    "print(i is k)"
   ]
  },
  {
   "cell_type": "markdown",
   "id": "16942882",
   "metadata": {},
   "source": [
    "Q5.Explain the concept of type casting in Python with examples.\n",
    "Ans. Type casting in Python refers to converting one data type into another.\n",
    "The folllowing below mentioned in built functions are there in python for typecasting:\n",
    "int() - converting into integer\n",
    "float() - converting into float/decimal value\n",
    "list() - converting into list\n",
    "tuple() - converting into tuple"
   ]
  },
  {
   "cell_type": "code",
   "execution_count": 18,
   "id": "6728f0ca",
   "metadata": {},
   "outputs": [
    {
     "name": "stdout",
     "output_type": "stream",
     "text": [
      "Value of x before typecasting :  15\n",
      "Value of x after typecasting :  15.0\n",
      "List1 before typecasting into a tuple :  [8, 11, 20, 4]\n",
      "List1 typecasted into a tuple :  (8, 11, 20, 4)\n"
     ]
    }
   ],
   "source": [
    "x = 15\n",
    "y = float(x)\n",
    "print(\"Value of x before typecasting : \" , x)\n",
    "print(\"Value of x after typecasting : \" , y)\n",
    "list1 = [8,11,20,4]\n",
    "z = tuple(list1)\n",
    "print(\"List1 before typecasting into a tuple : \" , list1)\n",
    "print(\"List1 typecasted into a tuple : \" , z)"
   ]
  },
  {
   "cell_type": "markdown",
   "id": "b057483d",
   "metadata": {},
   "source": [
    "Q6.How do conditional statements work in Python? Illustrate with examples.\n",
    "Ans. The conditional statements are :\n",
    "if statement\n",
    "elif statement\n",
    "else statement"
   ]
  },
  {
   "cell_type": "code",
   "execution_count": 19,
   "id": "f2d67af3",
   "metadata": {},
   "outputs": [
    {
     "name": "stdout",
     "output_type": "stream",
     "text": [
      "You can drive\n"
     ]
    }
   ],
   "source": [
    "# if statement\n",
    "age = 19\n",
    "if age >= 18:\n",
    "    print(\"You can drive\")"
   ]
  },
  {
   "cell_type": "code",
   "execution_count": 22,
   "id": "9c3e12a6",
   "metadata": {},
   "outputs": [
    {
     "name": "stdout",
     "output_type": "stream",
     "text": [
      "You are old\n"
     ]
    }
   ],
   "source": [
    "# elif statement\n",
    "age = 75\n",
    "if (age < 18):\n",
    "    print(\"You are child\")\n",
    "elif((age<=59) and (age>=18)):\n",
    "    print(\"You are adult\")\n",
    "else:\n",
    "    print(\"You are old\")"
   ]
  },
  {
   "cell_type": "code",
   "execution_count": 24,
   "id": "b380887b",
   "metadata": {},
   "outputs": [
    {
     "name": "stdout",
     "output_type": "stream",
     "text": [
      "You are too old to Drive :(\n"
     ]
    }
   ],
   "source": [
    "# nested if statement\n",
    "age = 62\n",
    "if(age >=18):\n",
    "    if(age>59):\n",
    "        print(\"You are too old to Drive :(\")\n",
    "    else:\n",
    "        print(\"You can Drive :)\")\n",
    "else:\n",
    "    print(\"You cannot Drive\")"
   ]
  },
  {
   "cell_type": "markdown",
   "id": "6a9f852e",
   "metadata": {},
   "source": [
    "Q7.Describe the different types of loops in Python and their use cases with examples.\n",
    "Ans. The different types of loops in Python are :\n",
    "1. For Loop - A for loop is used to iterate over a sequence and execute a block of code for each item in that sequence.\n",
    "2. While Loop - A while loop repeatedly executes a block of code as long as the condition is True. It’s useful when we don’t know in advance how many times the loop should run."
   ]
  },
  {
   "cell_type": "code",
   "execution_count": 25,
   "id": "cdad6e4b",
   "metadata": {},
   "outputs": [
    {
     "name": "stdout",
     "output_type": "stream",
     "text": [
      "apples\n",
      "kiwi\n",
      "cherry\n",
      "mango\n",
      "banana\n"
     ]
    }
   ],
   "source": [
    "# For loop example 1\n",
    "Fruits = [\"apples\" , \"kiwi\" , \"cherry\" , \"mango\" , \"banana\"]\n",
    "for i in Fruits:\n",
    "    print(i)"
   ]
  },
  {
   "cell_type": "code",
   "execution_count": 26,
   "id": "031e7988",
   "metadata": {},
   "outputs": [
    {
     "name": "stdout",
     "output_type": "stream",
     "text": [
      "1\n",
      "3\n",
      "5\n",
      "7\n",
      "9\n"
     ]
    }
   ],
   "source": [
    "# For Loop Example 2\n",
    "for i in range(1 , 10 , 2):\n",
    "    print(i)"
   ]
  },
  {
   "cell_type": "code",
   "execution_count": 27,
   "id": "db613f48",
   "metadata": {},
   "outputs": [
    {
     "name": "stdout",
     "output_type": "stream",
     "text": [
      "10\n",
      "9\n",
      "8\n",
      "7\n",
      "6\n",
      "5\n",
      "4\n",
      "3\n",
      "2\n",
      "1\n",
      "While Loop has been executed successfully :) \n"
     ]
    }
   ],
   "source": [
    "# While Loop\n",
    "i = 10\n",
    "while(i>0):\n",
    "    print(i)\n",
    "    i -= 1\n",
    "print(\"While Loop has been executed successfully :) \")"
   ]
  }
 ],
 "metadata": {
  "kernelspec": {
   "display_name": "Python 3",
   "language": "python",
   "name": "python3"
  },
  "language_info": {
   "codemirror_mode": {
    "name": "ipython",
    "version": 3
   },
   "file_extension": ".py",
   "mimetype": "text/x-python",
   "name": "python",
   "nbconvert_exporter": "python",
   "pygments_lexer": "ipython3",
   "version": "3.12.7"
  }
 },
 "nbformat": 4,
 "nbformat_minor": 5
}
